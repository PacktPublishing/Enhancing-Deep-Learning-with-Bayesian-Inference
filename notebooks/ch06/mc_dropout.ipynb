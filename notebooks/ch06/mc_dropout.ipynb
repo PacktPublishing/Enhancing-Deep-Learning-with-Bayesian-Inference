{
 "cells": [
  {
   "cell_type": "code",
   "execution_count": 6,
   "metadata": {
    "executionInfo": {
     "elapsed": 278,
     "status": "ok",
     "timestamp": 1649882169561,
     "user": {
      "displayName": "Marian Schneider",
      "userId": "12400997500202827405"
     },
     "user_tz": -60
    },
    "id": "1Tpp_X3foLYd"
   },
   "outputs": [],
   "source": [
    "import numpy as np\n",
    "import tensorflow as tf\n",
    "from tensorflow.keras import Sequential\n",
    "from tensorflow.keras.layers import Conv2D, Dense, Dropout, Flatten, MaxPooling2D"
   ]
  },
  {
   "cell_type": "code",
   "execution_count": 7,
   "metadata": {
    "executionInfo": {
     "elapsed": 612,
     "status": "ok",
     "timestamp": 1649882171928,
     "user": {
      "displayName": "Marian Schneider",
      "userId": "12400997500202827405"
     },
     "user_tz": -60
    },
    "id": "ag8aRZfRouSA"
   },
   "outputs": [],
   "source": [
    "# define a simple convolutional neural network with dropout\n",
    "model = Sequential(\n",
    "    [\n",
    "        Conv2D(32, (3, 3), activation=\"relu\", input_shape=(28, 28, 1)),\n",
    "        MaxPooling2D((2, 2)),\n",
    "        Dropout(0.2),\n",
    "        Conv2D(64, (3, 3), activation=\"relu\"),\n",
    "        MaxPooling2D((2, 2)),\n",
    "        Dropout(0.5),\n",
    "        Flatten(),\n",
    "        Dense(64, activation=\"relu\"),\n",
    "        Dropout(0.5),\n",
    "        Dense(10),\n",
    "    ]\n",
    ")"
   ]
  },
  {
   "cell_type": "code",
   "execution_count": 8,
   "metadata": {
    "executionInfo": {
     "elapsed": 219,
     "status": "ok",
     "timestamp": 1649882213536,
     "user": {
      "displayName": "Marian Schneider",
      "userId": "12400997500202827405"
     },
     "user_tz": -60
    },
    "id": "onkaRtNRohDQ"
   },
   "outputs": [],
   "source": [
    "# use dropout at inference by setting\n",
    "# setting `training=True` signals to tensorflow that dropout should be used at inference\n",
    "def mc_dropout_inference(imgs: np.ndarray, nb_inference: int, model: Sequential) -> np.ndarray:\n",
    "    return np.stack(\n",
    "        [tf.nn.softmax(model(imgs, training=True), axis=-1) for sample in range(nb_inference)]\n",
    "    )"
   ]
  },
  {
   "cell_type": "code",
   "execution_count": 12,
   "metadata": {
    "executionInfo": {
     "elapsed": 571,
     "status": "ok",
     "timestamp": 1649882556606,
     "user": {
      "displayName": "Marian Schneider",
      "userId": "12400997500202827405"
     },
     "user_tz": -60
    },
    "id": "x8CCtDVXp9JN"
   },
   "outputs": [],
   "source": [
    "# load a handful of images\n",
    "fashion_mnist = tf.keras.datasets.fashion_mnist\n",
    "_, (test_images, _) = fashion_mnist.load_data()\n",
    "# only pick 5 images\n",
    "test_images = test_images[:5]"
   ]
  },
  {
   "cell_type": "code",
   "execution_count": 14,
   "metadata": {
    "executionInfo": {
     "elapsed": 567,
     "status": "ok",
     "timestamp": 1649882570227,
     "user": {
      "displayName": "Marian Schneider",
      "userId": "12400997500202827405"
     },
     "user_tz": -60
    },
    "id": "sPbWDGyTol4a"
   },
   "outputs": [],
   "source": [
    "# obtain predictions with dropout on\n",
    "predictions = mc_dropout_inference(test_images, 50, model)"
   ]
  },
  {
   "cell_type": "code",
   "execution_count": 15,
   "metadata": {
    "executionInfo": {
     "elapsed": 230,
     "status": "ok",
     "timestamp": 1649882574951,
     "user": {
      "displayName": "Marian Schneider",
      "userId": "12400997500202827405"
     },
     "user_tz": -60
    },
    "id": "bkTmxJztpZ2z"
   },
   "outputs": [],
   "source": [
    "# get mean and variance for every prediction of our model\n",
    "predictive_mean = np.mean(predictions, axis=0)\n",
    "predictive_variance = np.var(predictions, axis=0)"
   ]
  },
  {
   "cell_type": "code",
   "execution_count": null,
   "metadata": {
    "id": "aJxV3h6Mqi1Z"
   },
   "outputs": [],
   "source": []
  }
 ],
 "metadata": {
  "colab": {
   "authorship_tag": "ABX9TyMjn2JMz0DNfmQm2S6VrqaG",
   "collapsed_sections": [],
   "name": "chapter_6_mc_dropout.ipynb",
   "provenance": []
  },
  "kernelspec": {
   "display_name": "Python 3",
   "name": "python3"
  },
  "language_info": {
   "name": "python"
  }
 },
 "nbformat": 4,
 "nbformat_minor": 0
}